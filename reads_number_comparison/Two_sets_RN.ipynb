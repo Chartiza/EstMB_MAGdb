{
 "cells": [
  {
   "cell_type": "code",
   "execution_count": 1,
   "metadata": {},
   "outputs": [],
   "source": [
    "# import packages\n",
    "import matplotlib.pyplot as plt\n",
    "import pandas as pd\n",
    "import seaborn as sns \n",
    "import numpy as np\n",
    "from matplotlib_venn import venn2"
   ]
  },
  {
   "attachments": {},
   "cell_type": "markdown",
   "metadata": {},
   "source": [
    "## Read BGI input"
   ]
  },
  {
   "cell_type": "markdown",
   "metadata": {},
   "source": [
    "## Combine info separetely"
   ]
  },
  {
   "cell_type": "code",
   "execution_count": 28,
   "metadata": {},
   "outputs": [
    {
     "data": {
      "text/html": [
       "<div>\n",
       "<style scoped>\n",
       "    .dataframe tbody tr th:only-of-type {\n",
       "        vertical-align: middle;\n",
       "    }\n",
       "\n",
       "    .dataframe tbody tr th {\n",
       "        vertical-align: top;\n",
       "    }\n",
       "\n",
       "    .dataframe thead th {\n",
       "        text-align: right;\n",
       "    }\n",
       "</style>\n",
       "<table border=\"1\" class=\"dataframe\">\n",
       "  <thead>\n",
       "    <tr style=\"text-align: right;\">\n",
       "      <th></th>\n",
       "      <th>sample_name</th>\n",
       "      <th>BGI_reads_numb</th>\n",
       "      <th>BGIp2_reads_numb</th>\n",
       "      <th>Illumina_reads_numb</th>\n",
       "    </tr>\n",
       "  </thead>\n",
       "  <tbody>\n",
       "    <tr>\n",
       "      <th>0</th>\n",
       "      <td>V9OLUV</td>\n",
       "      <td>463900.0</td>\n",
       "      <td>NaN</td>\n",
       "      <td>623330.0</td>\n",
       "    </tr>\n",
       "    <tr>\n",
       "      <th>1</th>\n",
       "      <td>VNB54O</td>\n",
       "      <td>840010.0</td>\n",
       "      <td>NaN</td>\n",
       "      <td>16074287.0</td>\n",
       "    </tr>\n",
       "    <tr>\n",
       "      <th>2</th>\n",
       "      <td>VV5SGU</td>\n",
       "      <td>1013097.0</td>\n",
       "      <td>NaN</td>\n",
       "      <td>621436.0</td>\n",
       "    </tr>\n",
       "    <tr>\n",
       "      <th>3</th>\n",
       "      <td>VORP1W</td>\n",
       "      <td>19993536.0</td>\n",
       "      <td>NaN</td>\n",
       "      <td>13233320.0</td>\n",
       "    </tr>\n",
       "    <tr>\n",
       "      <th>4</th>\n",
       "      <td>V3PRGW</td>\n",
       "      <td>20274738.0</td>\n",
       "      <td>NaN</td>\n",
       "      <td>14875113.0</td>\n",
       "    </tr>\n",
       "  </tbody>\n",
       "</table>\n",
       "</div>"
      ],
      "text/plain": [
       "  sample_name  BGI_reads_numb  BGIp2_reads_numb  Illumina_reads_numb\n",
       "0      V9OLUV        463900.0               NaN             623330.0\n",
       "1      VNB54O        840010.0               NaN           16074287.0\n",
       "2      VV5SGU       1013097.0               NaN             621436.0\n",
       "3      VORP1W      19993536.0               NaN           13233320.0\n",
       "4      V3PRGW      20274738.0               NaN           14875113.0"
      ]
     },
     "execution_count": 28,
     "metadata": {},
     "output_type": "execute_result"
    }
   ],
   "source": [
    "# input BGI \n",
    "bgi = pd.read_csv('input/ReadsNumb_BGI.csv')\n",
    "bgi['sample_name'] = bgi['name'].str.split('_').str[1]\n",
    "bgi.rename(columns={\"name\": \"BGI_reads_file\", \"reads_numb\": \"BGI_reads_numb\"}, inplace=True)\n",
    "bgi = bgi.sort_values(by=['BGI_reads_numb'])\n",
    "bgi_unique = bgi.drop_duplicates(subset=['sample_name'], keep='last')\n",
    "\n",
    "# input BGI part 2\n",
    "bgi2 = pd.read_csv('input/ReadsNumb_BGI_p2.csv', sep=' ', header=None, names=['Sample', 'BGIp2_reads_numb'])\n",
    "bgi2['sample_name'] = bgi2['Sample'].str.split('_').str[0]\n",
    "bgi2 = bgi2.sort_values(by=['BGIp2_reads_numb'])\n",
    "bgi2_unique = bgi2.drop_duplicates(subset=['sample_name'], keep='last')\n",
    "bgi2_unique = bgi2_unique[['sample_name','BGIp2_reads_numb']]\n",
    "\n",
    "# input Illumina\n",
    "#ill = pd.read_csv('input/ReadsNumb_Illumina.csv')\n",
    "ill = pd.read_csv('input/ReadsNumb_Illumina.csv', sep=';')\n",
    "ill.rename(columns={\"nameS\": \"sample_name\", \"reads_numb\": \"Illumina_reads_numb\"}, inplace=True)\n",
    "ill = ill.sort_values(by=['Illumina_reads_numb'])\n",
    "ill_unique = ill.drop_duplicates(subset=['sample_name'], keep='last')\n",
    "\n",
    "# merge\n",
    "rn = bgi_unique.merge(ill_unique, on='sample_name', how='outer')\n",
    "rn1 = rn.merge(bgi2_unique, on='sample_name', how='outer')\n",
    "\n",
    "rn1 = rn1[['sample_name', 'BGI_reads_numb', 'BGIp2_reads_numb', 'Illumina_reads_numb']]\n",
    "rn1.to_excel('results/ReadsNumb_both_sets.xlsx', index=False)\n",
    "\n",
    "rn1.head()"
   ]
  },
  {
   "cell_type": "markdown",
   "metadata": {},
   "source": [
    "## Combine BGIs in one cohort "
   ]
  },
  {
   "cell_type": "code",
   "execution_count": 5,
   "metadata": {},
   "outputs": [
    {
     "name": "stderr",
     "output_type": "stream",
     "text": [
      "/var/folders/5j/pvj6k02n3mn9ztpn77vjtfzw0000gn/T/ipykernel_17241/3345486129.py:5: FutureWarning: The frame.append method is deprecated and will be removed from pandas in a future version. Use pandas.concat instead.\n",
      "  bgi_both = bgi_unique.append(bgi2_unique, ignore_index=True)\n"
     ]
    },
    {
     "data": {
      "text/html": [
       "<div>\n",
       "<style scoped>\n",
       "    .dataframe tbody tr th:only-of-type {\n",
       "        vertical-align: middle;\n",
       "    }\n",
       "\n",
       "    .dataframe tbody tr th {\n",
       "        vertical-align: top;\n",
       "    }\n",
       "\n",
       "    .dataframe thead th {\n",
       "        text-align: right;\n",
       "    }\n",
       "</style>\n",
       "<table border=\"1\" class=\"dataframe\">\n",
       "  <thead>\n",
       "    <tr style=\"text-align: right;\">\n",
       "      <th></th>\n",
       "      <th>BGI_reads_numb</th>\n",
       "      <th>sample_name</th>\n",
       "    </tr>\n",
       "  </thead>\n",
       "  <tbody>\n",
       "    <tr>\n",
       "      <th>0</th>\n",
       "      <td>463900</td>\n",
       "      <td>V9OLUV</td>\n",
       "    </tr>\n",
       "    <tr>\n",
       "      <th>1</th>\n",
       "      <td>840010</td>\n",
       "      <td>VNB54O</td>\n",
       "    </tr>\n",
       "    <tr>\n",
       "      <th>2</th>\n",
       "      <td>1013097</td>\n",
       "      <td>VV5SGU</td>\n",
       "    </tr>\n",
       "    <tr>\n",
       "      <th>3</th>\n",
       "      <td>19993536</td>\n",
       "      <td>VORP1W</td>\n",
       "    </tr>\n",
       "    <tr>\n",
       "      <th>4</th>\n",
       "      <td>20274738</td>\n",
       "      <td>V3PRGW</td>\n",
       "    </tr>\n",
       "    <tr>\n",
       "      <th>...</th>\n",
       "      <td>...</td>\n",
       "      <td>...</td>\n",
       "    </tr>\n",
       "    <tr>\n",
       "      <th>2010</th>\n",
       "      <td>83681271</td>\n",
       "      <td>V887SA</td>\n",
       "    </tr>\n",
       "    <tr>\n",
       "      <th>2011</th>\n",
       "      <td>86774991</td>\n",
       "      <td>VD7OX8</td>\n",
       "    </tr>\n",
       "    <tr>\n",
       "      <th>2012</th>\n",
       "      <td>87019548</td>\n",
       "      <td>V2ACZT</td>\n",
       "    </tr>\n",
       "    <tr>\n",
       "      <th>2013</th>\n",
       "      <td>91195072</td>\n",
       "      <td>VBV26Y</td>\n",
       "    </tr>\n",
       "    <tr>\n",
       "      <th>2014</th>\n",
       "      <td>109741740</td>\n",
       "      <td>V0LQ4N</td>\n",
       "    </tr>\n",
       "  </tbody>\n",
       "</table>\n",
       "<p>2015 rows × 2 columns</p>\n",
       "</div>"
      ],
      "text/plain": [
       "      BGI_reads_numb sample_name\n",
       "0             463900      V9OLUV\n",
       "1             840010      VNB54O\n",
       "2            1013097      VV5SGU\n",
       "3           19993536      VORP1W\n",
       "4           20274738      V3PRGW\n",
       "...              ...         ...\n",
       "2010        83681271      V887SA\n",
       "2011        86774991      VD7OX8\n",
       "2012        87019548      V2ACZT\n",
       "2013        91195072      VBV26Y\n",
       "2014       109741740      V0LQ4N\n",
       "\n",
       "[2015 rows x 2 columns]"
      ]
     },
     "execution_count": 5,
     "metadata": {},
     "output_type": "execute_result"
    }
   ],
   "source": [
    "## Combine info separetely\n",
    "bgi_unique = bgi_unique.drop(columns=['BGI_reads_file'])\n",
    "bgi2_unique.rename(columns={\"BGIp2_reads_numb\": \"BGI_reads_numb\"}, inplace=True)\n",
    "# combine with bgi_unique\n",
    "bgi_both = bgi_unique.append(bgi2_unique, ignore_index=True)\n",
    "bgi_both"
   ]
  },
  {
   "cell_type": "code",
   "execution_count": 6,
   "metadata": {},
   "outputs": [
    {
     "data": {
      "image/png": "[encoded data removed]",
      "text/plain": [
       "<Figure size 640x480 with 1 Axes>"
      ]
     },
     "metadata": {},
     "output_type": "display_data"
    }
   ],
   "source": [
    "smpls_bgi = set(bgi_both['sample_name'])\n",
    "#smpls_bgi = set(bgi_unique['sample_name']).union(bgi2_unique['sample_name'])\n",
    "\n",
    "smpls_illumina = set(ill_unique['sample_name'])\n",
    "intersection = smpls_bgi.intersection(smpls_illumina)\n",
    "bgi_only = smpls_bgi.difference(smpls_illumina)\n",
    "illumina_only = smpls_illumina.difference(smpls_bgi)\n",
    "\n",
    "v = venn2(subsets=(len(bgi_only), len(illumina_only), len(intersection)), set_colors=('#E99B53', '#99CCCD'))\n",
    "v.get_patch_by_id('11').set_color('#FAE483')\n",
    "plt.title('Overlaping samples from BGI and Illumina sets')\n",
    "\n",
    "plt.savefig('results/venn2.png', dpi=300, bbox_inches='tight')\n",
    "plt.savefig('results/venn2.svg', bbox_inches='tight')\n"
   ]
  },
  {
   "cell_type": "code",
   "execution_count": 7,
   "metadata": {},
   "outputs": [
    {
     "data": {
      "image/png": "[encoded data removed]",
      "text/plain": [
       "<Figure size 640x480 with 1 Axes>"
      ]
     },
     "metadata": {},
     "output_type": "display_data"
    }
   ],
   "source": [
    "plt.hist(bgi_unique['BGI_reads_numb'], bins=50, color='#99CCCD', alpha=0.5, label='BGI')\n",
    "plt.hist(bgi2_unique['BGI_reads_numb'], bins=50, color='green', alpha=0.5, label='BGIp2')\n",
    "plt.hist(ill_unique['Illumina_reads_numb'], bins=50, color='#E99B53', alpha=0.5, label='Illumina')\n",
    "plt.legend(loc='upper right')\n",
    "plt.title('Reads number distribution')\n",
    "plt.xlabel('Reads number')\n",
    "plt.ylabel('Frequency')\n",
    "plt.savefig('results/ReadsNumb_distribution.png', dpi=300, bbox_inches='tight')\n",
    "plt.savefig('results/ReadsNumb_distribution.svg', bbox_inches='tight')"
   ]
  },
  {
   "cell_type": "markdown",
   "metadata": {},
   "source": [
    "## Define duplicate samples"
   ]
  },
  {
   "cell_type": "code",
   "execution_count": 33,
   "metadata": {},
   "outputs": [
    {
     "name": "stdout",
     "output_type": "stream",
     "text": [
      "BGI cohort includes 51 duplicated samples \n",
      "\n",
      "MB        3\n",
      "V4SFLT    3\n",
      "VA6KWA    2\n",
      "VAOUIB    2\n",
      "VB1IUF    2\n",
      "VBW53L    2\n",
      "VBY4LZ    2\n",
      "VC1TRL    2\n",
      "VCGAL2    2\n",
      "VCM010    2\n",
      "Name: sample_name, dtype: int64\n"
     ]
    },
    {
     "name": "stderr",
     "output_type": "stream",
     "text": [
      "/var/folders/5j/pvj6k02n3mn9ztpn77vjtfzw0000gn/T/ipykernel_17241/3520219634.py:4: FutureWarning: The frame.append method is deprecated and will be removed from pandas in a future version. Use pandas.concat instead.\n",
      "  bgi_both2 = bgi.append(bgi2, ignore_index=True)\n"
     ]
    }
   ],
   "source": [
    "# rename column Sample \n",
    "bgi2.rename(columns={\"Sample\": \"BGI_reads_file\", \"BGIp2_reads_numb\": \"BGI_reads_numb\"}, inplace=True)\n",
    "# combine with bgi_unique\n",
    "bgi_both2 = bgi.append(bgi2, ignore_index=True)\n",
    "\n",
    "# show duplicates for the sample column\n",
    "bgi_dup = bgi_both2[bgi_both2.duplicated(['sample_name'], keep=False)].sort_values(by=['sample_name'])\n",
    "bgi_dup.to_excel('results/BGI_duplicates.xlsx', index=False)\n",
    "\n",
    "print('BGI cohort includes {} duplicated samples \\n'.format(len(bgi_dup['sample_name'].unique())))\n",
    "print(bgi_dup['sample_name'].value_counts().head(10))"
   ]
  },
  {
   "cell_type": "code",
   "execution_count": 31,
   "metadata": {},
   "outputs": [
    {
     "name": "stdout",
     "output_type": "stream",
     "text": [
      "Illumina cohort includes 7 duplicated samples \n",
      "\n",
      "VR4UUJ    4\n",
      "V4SFLT    2\n",
      "VF4AEO    2\n",
      "VLD38Y    2\n",
      "VRADL2    2\n",
      "VRAZAX    2\n",
      "VRRCD5    2\n",
      "Name: sample_name, dtype: int64\n"
     ]
    }
   ],
   "source": [
    "# show duplicates for the sample column\n",
    "ill_dup = ill[ill.duplicated(['sample_name'], keep=False)].sort_values(by=['sample_name'])\n",
    "ill_dup.to_excel('results/Illumina_duplicates.xlsx', index=False)\n",
    "\n",
    "print('Illumina cohort includes {} duplicated samples \\n'.format(len(ill_dup['sample_name'].unique())))\n",
    "print(ill_dup['sample_name'].value_counts())"
   ]
  }
 ],
 "metadata": {
  "kernelspec": {
   "display_name": "Python 3",
   "language": "python",
   "name": "python3"
  },
  "language_info": {
   "codemirror_mode": {
    "name": "ipython",
    "version": 3
   },
   "file_extension": ".py",
   "mimetype": "text/x-python",
   "name": "python",
   "nbconvert_exporter": "python",
   "pygments_lexer": "ipython3",
   "version": "3.9.6"
  }
 },
 "nbformat": 4,
 "nbformat_minor": 2
}
