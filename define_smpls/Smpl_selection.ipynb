{
 "cells": [
  {
   "cell_type": "code",
   "execution_count": 1,
   "metadata": {},
   "outputs": [],
   "source": [
    "# import packages\n",
    "import matplotlib.pyplot as plt\n",
    "import pandas as pd\n",
    "import seaborn as sns \n",
    "import os\n",
    "import glob\n",
    "from datetime import date"
   ]
  },
  {
   "cell_type": "markdown",
   "metadata": {},
   "source": [
    "## Illumina cohort. 2520 samples"
   ]
  },
  {
   "cell_type": "code",
   "execution_count": 77,
   "metadata": {},
   "outputs": [
    {
     "data": {
      "text/html": [
       "<div>\n",
       "<style scoped>\n",
       "    .dataframe tbody tr th:only-of-type {\n",
       "        vertical-align: middle;\n",
       "    }\n",
       "\n",
       "    .dataframe tbody tr th {\n",
       "        vertical-align: top;\n",
       "    }\n",
       "\n",
       "    .dataframe thead th {\n",
       "        text-align: right;\n",
       "    }\n",
       "</style>\n",
       "<table border=\"1\" class=\"dataframe\">\n",
       "  <thead>\n",
       "    <tr style=\"text-align: right;\">\n",
       "      <th></th>\n",
       "      <th>path</th>\n",
       "      <th>sample</th>\n",
       "      <th>cohort</th>\n",
       "    </tr>\n",
       "  </thead>\n",
       "  <tbody>\n",
       "    <tr>\n",
       "      <th>2519</th>\n",
       "      <td>/gpfs/space/GI/GV/EGCUT_data/omics_data/microb...</td>\n",
       "      <td>VYHHE1</td>\n",
       "      <td>Illumina</td>\n",
       "    </tr>\n",
       "    <tr>\n",
       "      <th>2520</th>\n",
       "      <td>/gpfs/space/GI/GV/EGCUT_data/omics_data/microb...</td>\n",
       "      <td>VZ24LG</td>\n",
       "      <td>Illumina</td>\n",
       "    </tr>\n",
       "  </tbody>\n",
       "</table>\n",
       "</div>"
      ],
      "text/plain": [
       "                                                   path  sample    cohort\n",
       "2519  /gpfs/space/GI/GV/EGCUT_data/omics_data/microb...  VYHHE1  Illumina\n",
       "2520  /gpfs/space/GI/GV/EGCUT_data/omics_data/microb...  VZ24LG  Illumina"
      ]
     },
     "execution_count": 77,
     "metadata": {},
     "output_type": "execute_result"
    }
   ],
   "source": [
    "# Illumina cohort. 2520 samples\n",
    "ill = pd.read_csv('./input/p1_2520_Illumina_raw_path.csv', header=None)\n",
    "# rename columns\n",
    "ill.columns = ['path']\n",
    "# add sample names\n",
    "ill['sample'] = ill['path'].str.split('/').str[-2]\n",
    "ill['cohort'] = 'Illumina'\n",
    "ill.tail(2)"
   ]
  },
  {
   "cell_type": "markdown",
   "metadata": {},
   "source": [
    "## BGI cohort, part 1. 1908 samples"
   ]
  },
  {
   "cell_type": "code",
   "execution_count": 78,
   "metadata": {},
   "outputs": [
    {
     "data": {
      "text/html": [
       "<div>\n",
       "<style scoped>\n",
       "    .dataframe tbody tr th:only-of-type {\n",
       "        vertical-align: middle;\n",
       "    }\n",
       "\n",
       "    .dataframe tbody tr th {\n",
       "        vertical-align: top;\n",
       "    }\n",
       "\n",
       "    .dataframe thead th {\n",
       "        text-align: right;\n",
       "    }\n",
       "</style>\n",
       "<table border=\"1\" class=\"dataframe\">\n",
       "  <thead>\n",
       "    <tr style=\"text-align: right;\">\n",
       "      <th></th>\n",
       "      <th>path</th>\n",
       "      <th>sample</th>\n",
       "      <th>cohort</th>\n",
       "    </tr>\n",
       "  </thead>\n",
       "  <tbody>\n",
       "    <tr>\n",
       "      <th>1906</th>\n",
       "      <td>/gpfs/space/GI/GV/EGCUT_data/omics_data/microb...</td>\n",
       "      <td>VV639H</td>\n",
       "      <td>BGI1</td>\n",
       "    </tr>\n",
       "    <tr>\n",
       "      <th>1907</th>\n",
       "      <td>/gpfs/space/GI/GV/EGCUT_data/omics_data/microb...</td>\n",
       "      <td>VV71E6</td>\n",
       "      <td>BGI1</td>\n",
       "    </tr>\n",
       "  </tbody>\n",
       "</table>\n",
       "</div>"
      ],
      "text/plain": [
       "                                                   path  sample cohort\n",
       "1906  /gpfs/space/GI/GV/EGCUT_data/omics_data/microb...  VV639H   BGI1\n",
       "1907  /gpfs/space/GI/GV/EGCUT_data/omics_data/microb...  VV71E6   BGI1"
      ]
     },
     "execution_count": 78,
     "metadata": {},
     "output_type": "execute_result"
    }
   ],
   "source": [
    "# add cultom column names\n",
    "bgi1 = pd.read_csv('./input/p1_1908_BGI_clean_path.csv', header=None)\n",
    "# rename columns\n",
    "bgi1.columns = ['path']\n",
    "# add sample names\n",
    "bgi1['sample'] = bgi1['path'].str.split('/').str[-2].str.split('_').str[1]\n",
    "bgi1['cohort'] = 'BGI1'\n",
    "bgi1.tail(2)"
   ]
  },
  {
   "cell_type": "markdown",
   "metadata": {},
   "source": [
    "## BGI cohort, part 2. 197 samples"
   ]
  },
  {
   "cell_type": "code",
   "execution_count": 84,
   "metadata": {},
   "outputs": [
    {
     "data": {
      "text/html": [
       "<div>\n",
       "<style scoped>\n",
       "    .dataframe tbody tr th:only-of-type {\n",
       "        vertical-align: middle;\n",
       "    }\n",
       "\n",
       "    .dataframe tbody tr th {\n",
       "        vertical-align: top;\n",
       "    }\n",
       "\n",
       "    .dataframe thead th {\n",
       "        text-align: right;\n",
       "    }\n",
       "</style>\n",
       "<table border=\"1\" class=\"dataframe\">\n",
       "  <thead>\n",
       "    <tr style=\"text-align: right;\">\n",
       "      <th></th>\n",
       "      <th>path</th>\n",
       "      <th>sample</th>\n",
       "      <th>cohort</th>\n",
       "    </tr>\n",
       "  </thead>\n",
       "  <tbody>\n",
       "    <tr>\n",
       "      <th>602</th>\n",
       "      <td>/gpfs/space/GI/GV/EGCUT_data/omics_data/microb...</td>\n",
       "      <td>VYUQHR</td>\n",
       "      <td>BGI2</td>\n",
       "    </tr>\n",
       "    <tr>\n",
       "      <th>604</th>\n",
       "      <td>/gpfs/space/GI/GV/EGCUT_data/omics_data/microb...</td>\n",
       "      <td>VYXJ7L</td>\n",
       "      <td>BGI2</td>\n",
       "    </tr>\n",
       "  </tbody>\n",
       "</table>\n",
       "</div>"
      ],
      "text/plain": [
       "                                                  path  sample cohort\n",
       "602  /gpfs/space/GI/GV/EGCUT_data/omics_data/microb...  VYUQHR   BGI2\n",
       "604  /gpfs/space/GI/GV/EGCUT_data/omics_data/microb...  VYXJ7L   BGI2"
      ]
     },
     "execution_count": 84,
     "metadata": {},
     "output_type": "execute_result"
    }
   ],
   "source": [
    "# add cultom column names\n",
    "bgi2 = pd.read_csv('./input/smpls_list_BGI_p2.csv', header=None)\n",
    "# rename columns\n",
    "bgi2.columns = ['Spath']\n",
    "# add sample names\n",
    "bgi2['sample'] = bgi2['Spath'].str.split('/').str[-2]\n",
    "bgi2['path'] = '/gpfs/space/GI/GV/EGCUT_data/omics_data/microbiomics/BGI2_raw/MMHP_Tartu/'+bgi2['Spath']\n",
    "bgi2 = bgi2[['path','sample']]\n",
    "\n",
    "# skip fq2 reads \n",
    "mask = ~bgi2['path'].str.endswith('2.fq.gz')\n",
    "# Apply the mask to filter out the rows\n",
    "bgi2 = bgi2[mask]\n",
    "\n",
    "#bgi2['path'].str[:-8].drop_duplicates().to_csv('./input/p2_197_BGI_raw_path.csv', index=False)\n",
    "bgi2['path'].to_csv('./input/p2_197_BGI_raw_path.csv', index=False)\n",
    "bgi2['cohort'] = 'BGI2'\n",
    "bgi2.tail(2)"
   ]
  },
  {
   "cell_type": "code",
   "execution_count": 76,
   "metadata": {},
   "outputs": [],
   "source": [
    "## 102 samples were sequenced twice!"
   ]
  },
  {
   "cell_type": "code",
   "execution_count": 88,
   "metadata": {},
   "outputs": [],
   "source": [
    "# make a table with all sequenced samples\n",
    "all = pd.concat([ill, bgi1,bgi2])\n",
    "all = all.reset_index(drop=True).sort_values(by=['sample'])\n",
    "all.tail(2)\n",
    "\n",
    "all.to_csv('./all_sequenced_samples.csv', index=False)"
   ]
  },
  {
   "cell_type": "markdown",
   "metadata": {},
   "source": [
    "## Compare samples lists"
   ]
  },
  {
   "cell_type": "code",
   "execution_count": 73,
   "metadata": {},
   "outputs": [
    {
     "data": {
      "image/png": "[encoded data removed]",
      "text/plain": [
       "<Figure size 640x480 with 1 Axes>"
      ]
     },
     "metadata": {},
     "output_type": "display_data"
    }
   ],
   "source": [
    "# add vienn diagram for samples\n",
    "from matplotlib_venn import venn2\n",
    "from matplotlib_venn import venn3\n",
    "\n",
    "venn3([set(bgi1['sample'].to_list()), \n",
    "       set(bgi2['sample'].to_list()),\n",
    "       set(ill['sample'].to_list())],\n",
    "       set_labels=('BGI1', 'BGI2','Illumina'),\n",
    "       set_colors=('skyblue', 'skyblue','orange'), alpha = 0.7)\n",
    "\n",
    "plt.title('Overlaps between cohorts')\n",
    "plt.tight_layout()\n",
    "\n",
    "plt.savefig('Overlaps1.svg')\n",
    "plt.savefig('Overlaps1.png', dpi=300)"
   ]
  },
  {
   "cell_type": "code",
   "execution_count": 43,
   "metadata": {},
   "outputs": [
    {
     "data": {
      "text/plain": [
       "<matplotlib_venn._common.VennDiagram at 0x7ff3260ebbb0>"
      ]
     },
     "execution_count": 43,
     "metadata": {},
     "output_type": "execute_result"
    },
    {
     "data": {
      "image/png": "[encoded data removed]",
      "text/plain": [
       "<Figure size 640x480 with 1 Axes>"
      ]
     },
     "metadata": {},
     "output_type": "display_data"
    }
   ],
   "source": [
    "# combine bgi1 and bgi2\n",
    "bgi = pd.concat([bgi1,bgi2])\n",
    "\n",
    "venn2([set(bgi['sample'].to_list()), \n",
    "       set(ill['sample'].to_list())],\n",
    "       set_labels=('BGI', 'Illumina'),\n",
    "       set_colors=('skyblue', 'orange'), alpha = 0.7)"
   ]
  },
  {
   "cell_type": "code",
   "execution_count": 64,
   "metadata": {},
   "outputs": [
    {
     "name": "stdout",
     "output_type": "stream",
     "text": [
      "447\n"
     ]
    }
   ],
   "source": [
    "# Samples presented only in ILLUMINA cohort\n",
    "non_overlapping_samples =  set(ill['sample']) - set(bgi['sample'])\n",
    "\n",
    "# Convert the non-overlapping samples set to a sorted list\n",
    "non_overlapping_samples_list = sorted(list(non_overlapping_samples))\n",
    "\n",
    "# Specify the output file path\n",
    "output_file_path = \"Illumina_only_samples.txt\"\n",
    "\n",
    "# Write the non-overlapping samples to a file\n",
    "with open(output_file_path, \"w\") as file:\n",
    "    file.write(\"Illumina_only_samples:\\n\")\n",
    "    for sample in non_overlapping_samples_list:\n",
    "        file.write(sample + \"\\n\")\n",
    "\n",
    "print(len(non_overlapping_samples))\n"
   ]
  },
  {
   "cell_type": "code",
   "execution_count": 65,
   "metadata": {},
   "outputs": [
    {
     "name": "stdout",
     "output_type": "stream",
     "text": [
      "29\n"
     ]
    }
   ],
   "source": [
    "# Samples presented only in ILLUMINA cohort\n",
    "non_overlapping_samples =  set(bgi['sample']) - set(ill['sample'])\n",
    "\n",
    "# Convert the non-overlapping samples set to a sorted list\n",
    "non_overlapping_samples_list = sorted(list(non_overlapping_samples))\n",
    "\n",
    "# Specify the output file path\n",
    "output_file_path = \"BGI_only_samples.txt\"\n",
    "\n",
    "# Write the non-overlapping samples to a file\n",
    "with open(output_file_path, \"w\") as file:\n",
    "    file.write(\"BGI_only_samples:\\n\")\n",
    "    for sample in non_overlapping_samples_list:\n",
    "        file.write(sample + \"\\n\")\n",
    "\n",
    "print(len(non_overlapping_samples))\n"
   ]
  },
  {
   "cell_type": "code",
   "execution_count": 71,
   "metadata": {},
   "outputs": [
    {
     "data": {
      "text/plain": [
       "{'MB04_B10', 'MB14_G7', 'V4SFLT_1'}"
      ]
     },
     "execution_count": 71,
     "metadata": {},
     "output_type": "execute_result"
    }
   ],
   "source": [
    "set(bgi2['sample']) - set(ill['sample'])"
   ]
  }
 ],
 "metadata": {
  "kernelspec": {
   "display_name": "Python 3",
   "language": "python",
   "name": "python3"
  },
  "language_info": {
   "codemirror_mode": {
    "name": "ipython",
    "version": 3
   },
   "file_extension": ".py",
   "mimetype": "text/x-python",
   "name": "python",
   "nbconvert_exporter": "python",
   "pygments_lexer": "ipython3",
   "version": "3.8.3"
  }
 },
 "nbformat": 4,
 "nbformat_minor": 2
}
